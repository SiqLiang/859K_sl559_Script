{
 "cells": [
  {
   "cell_type": "code",
   "execution_count": 3,
   "metadata": {},
   "outputs": [],
   "source": [
    "import os\n",
    "from datetime import datetime"
   ]
  },
  {
   "cell_type": "code",
   "execution_count": 2,
   "metadata": {},
   "outputs": [
    {
     "name": "stdout",
     "output_type": "stream",
     "text": [
      "['DirEntry', 'F_OK', 'MutableMapping', 'O_APPEND', 'O_BINARY', 'O_CREAT', 'O_EXCL', 'O_NOINHERIT', 'O_RANDOM', 'O_RDONLY', 'O_RDWR', 'O_SEQUENTIAL', 'O_SHORT_LIVED', 'O_TEMPORARY', 'O_TEXT', 'O_TRUNC', 'O_WRONLY', 'P_DETACH', 'P_NOWAIT', 'P_NOWAITO', 'P_OVERLAY', 'P_WAIT', 'PathLike', 'R_OK', 'SEEK_CUR', 'SEEK_END', 'SEEK_SET', 'TMP_MAX', 'W_OK', 'X_OK', '_Environ', '__all__', '__builtins__', '__cached__', '__doc__', '__file__', '__loader__', '__name__', '__package__', '__spec__', '_execvpe', '_exists', '_exit', '_fspath', '_get_exports_list', '_putenv', '_unsetenv', '_wrap_close', 'abc', 'abort', 'access', 'altsep', 'chdir', 'chmod', 'close', 'closerange', 'cpu_count', 'curdir', 'defpath', 'device_encoding', 'devnull', 'dup', 'dup2', 'environ', 'errno', 'error', 'execl', 'execle', 'execlp', 'execlpe', 'execv', 'execve', 'execvp', 'execvpe', 'extsep', 'fdopen', 'fsdecode', 'fsencode', 'fspath', 'fstat', 'fsync', 'ftruncate', 'get_exec_path', 'get_handle_inheritable', 'get_inheritable', 'get_terminal_size', 'getcwd', 'getcwdb', 'getenv', 'getlogin', 'getpid', 'getppid', 'isatty', 'kill', 'linesep', 'link', 'listdir', 'lseek', 'lstat', 'makedirs', 'mkdir', 'name', 'open', 'pardir', 'path', 'pathsep', 'pipe', 'popen', 'putenv', 'read', 'readlink', 'remove', 'removedirs', 'rename', 'renames', 'replace', 'rmdir', 'scandir', 'sep', 'set_handle_inheritable', 'set_inheritable', 'spawnl', 'spawnle', 'spawnv', 'spawnve', 'st', 'startfile', 'stat', 'stat_float_times', 'stat_result', 'statvfs_result', 'strerror', 'supports_bytes_environ', 'supports_dir_fd', 'supports_effective_ids', 'supports_fd', 'supports_follow_symlinks', 'symlink', 'sys', 'system', 'terminal_size', 'times', 'times_result', 'truncate', 'umask', 'uname_result', 'unlink', 'urandom', 'utime', 'waitpid', 'walk', 'write']\n"
     ]
    }
   ],
   "source": [
    "print(dir(os))"
   ]
  },
  {
   "cell_type": "code",
   "execution_count": 4,
   "metadata": {},
   "outputs": [
    {
     "name": "stdout",
     "output_type": "stream",
     "text": [
      "C:\\859K_sl559\\Script\\NoteBooks\n"
     ]
    }
   ],
   "source": [
    "print(os.getcwd())"
   ]
  },
  {
   "cell_type": "code",
   "execution_count": 5,
   "metadata": {},
   "outputs": [
    {
     "name": "stdout",
     "output_type": "stream",
     "text": [
      "C:\\859K_sl559\\Data\\ModisFire2001_2019\\2001\n"
     ]
    }
   ],
   "source": [
    "os.chdir(\"C:\\\\859K_sl559\\\\Data\\\\ModisFire2001_2019\\\\2001\")\n",
    "print(os.getcwd())"
   ]
  },
  {
   "cell_type": "code",
   "execution_count": 6,
   "metadata": {},
   "outputs": [
    {
     "name": "stdout",
     "output_type": "stream",
     "text": [
      "['modis_2001_Afghanistan.csv', 'modis_2001_Albania.csv', 'modis_2001_Algeria.csv', 'modis_2001_Andorra.csv', 'modis_2001_Angola.csv', 'modis_2001_Argentina.csv', 'modis_2001_Armenia.csv', 'modis_2001_Australia.csv', 'modis_2001_Austria.csv', 'modis_2001_Azerbaijan.csv', 'modis_2001_Bahamas.csv', 'modis_2001_Bangladesh.csv', 'modis_2001_Barbados.csv', 'modis_2001_Belarus.csv', 'modis_2001_Belgium.csv', 'modis_2001_Belize.csv', 'modis_2001_Benin.csv', 'modis_2001_Bhutan.csv', 'modis_2001_Bolivia.csv', 'modis_2001_Bosnia_and_Herzegovina.csv', 'modis_2001_Botswana.csv', 'modis_2001_Brazil.csv', 'modis_2001_Brunei_Darussalam.csv', 'modis_2001_Bulgaria.csv', 'modis_2001_Burkina_Faso.csv', 'modis_2001_Burundi.csv', 'modis_2001_Cambodia.csv', 'modis_2001_Cameroon.csv', 'modis_2001_Canada.csv', 'modis_2001_Cape_Verde.csv', 'modis_2001_Central_African_Republic.csv', 'modis_2001_Chad.csv', 'modis_2001_Chile.csv', 'modis_2001_China.csv', 'modis_2001_Colombia.csv', 'modis_2001_Comoros.csv', 'modis_2001_Costa_Rica.csv', 'modis_2001_Cote_d_Ivoire.csv', 'modis_2001_Croatia.csv', 'modis_2001_Cuba.csv', 'modis_2001_Curacao.csv', 'modis_2001_Cyprus.csv', 'modis_2001_Czech_Republic.csv', 'modis_2001_Democratic_Republic_of_the_Congo.csv', 'modis_2001_Dem_Rep_Korea.csv', 'modis_2001_Denmark.csv', 'modis_2001_Djibouti.csv', 'modis_2001_Dominica.csv', 'modis_2001_Dominican_Republic.csv', 'modis_2001_Ecuador.csv', 'modis_2001_Egypt.csv', 'modis_2001_El_Salvador.csv', 'modis_2001_Equatorial_Guinea.csv', 'modis_2001_Eritrea.csv', 'modis_2001_Estonia.csv', 'modis_2001_Ethiopia.csv', 'modis_2001_Falkland_Islands.csv', 'modis_2001_Fiji.csv', 'modis_2001_Finland.csv', 'modis_2001_France.csv', 'modis_2001_French_Guiana.csv', 'modis_2001_French_Polynesia.csv', 'modis_2001_Gabon.csv', 'modis_2001_Georgia.csv', 'modis_2001_Germany.csv', 'modis_2001_Ghana.csv', 'modis_2001_Greece.csv', 'modis_2001_Greenland.csv', 'modis_2001_Guadeloupe.csv', 'modis_2001_Guam.csv', 'modis_2001_Guatemala.csv', 'modis_2001_Guinea-Bissau.csv', 'modis_2001_Guinea.csv', 'modis_2001_Guyana.csv', 'modis_2001_Haiti.csv', 'modis_2001_Honduras.csv', 'modis_2001_Hong_Kong.csv', 'modis_2001_Hungary.csv', 'modis_2001_India.csv', 'modis_2001_Indonesia.csv', 'modis_2001_Iran.csv', 'modis_2001_Iraq.csv', 'modis_2001_Ireland.csv', 'modis_2001_Israel.csv', 'modis_2001_Italy.csv', 'modis_2001_Jamaica.csv', 'modis_2001_Japan.csv', 'modis_2001_Jordan.csv', 'modis_2001_Kazakhstan.csv', 'modis_2001_Kenya.csv', 'modis_2001_Kosovo.csv', 'modis_2001_Kuwait.csv', 'modis_2001_Kyrgyzstan.csv', 'modis_2001_Lao_PDR.csv', 'modis_2001_Latvia.csv', 'modis_2001_Lebanon.csv', 'modis_2001_Lesotho.csv', 'modis_2001_Liberia.csv', 'modis_2001_Libya.csv', 'modis_2001_Lithuania.csv', 'modis_2001_Luxembourg.csv', 'modis_2001_Macedonia_Former_Yugoslav_Republic_of.csv', 'modis_2001_Madagascar.csv', 'modis_2001_Malawi.csv', 'modis_2001_Malaysia.csv', 'modis_2001_Maldives.csv', 'modis_2001_Mali.csv', 'modis_2001_Martinique.csv', 'modis_2001_Mauritania.csv', 'modis_2001_Mauritius.csv', 'modis_2001_Mexico.csv', 'modis_2001_Moldova.csv', 'modis_2001_Mongolia.csv', 'modis_2001_Montenegro.csv', 'modis_2001_Montserrat.csv', 'modis_2001_Morocco.csv', 'modis_2001_Mozambique.csv', 'modis_2001_Myanmar.csv', 'modis_2001_Namibia.csv', 'modis_2001_Nepal.csv', 'modis_2001_Netherlands.csv', 'modis_2001_New_Caledonia.csv', 'modis_2001_New_Zealand.csv', 'modis_2001_Nicaragua.csv', 'modis_2001_Niger.csv', 'modis_2001_Nigeria.csv', 'modis_2001_Northern_Mariana_Islands.csv', 'modis_2001_Norway.csv', 'modis_2001_Oman.csv', 'modis_2001_Pakistan.csv', 'modis_2001_Palestine.csv', 'modis_2001_Panama.csv', 'modis_2001_Papua_New_Guinea.csv', 'modis_2001_Paraguay.csv', 'modis_2001_Peru.csv', 'modis_2001_Philippines.csv', 'modis_2001_Poland.csv', 'modis_2001_Portugal.csv', 'modis_2001_Puerto_Rico.csv', 'modis_2001_Qatar.csv', 'modis_2001_Republic_of_Congo.csv', 'modis_2001_Republic_of_Korea.csv', 'modis_2001_Reunion.csv', 'modis_2001_Romania.csv', 'modis_2001_Russian_Federation.csv', 'modis_2001_Rwanda.csv', 'modis_2001_Saint-Barthelemy.csv', 'modis_2001_Saint_Kitts_and_Nevis.csv', 'modis_2001_Saint_Lucia.csv', 'modis_2001_Samoa.csv', 'modis_2001_Sao_Tome_and_Principe.csv', 'modis_2001_Saudi_Arabia.csv', 'modis_2001_Senegal.csv', 'modis_2001_Serbia.csv', 'modis_2001_Sierra_Leone.csv', 'modis_2001_Singapore.csv', 'modis_2001_Slovakia.csv', 'modis_2001_Slovenia.csv', 'modis_2001_Solomon_Islands.csv', 'modis_2001_Somalia.csv', 'modis_2001_Somaliland.csv', 'modis_2001_South_Africa.csv', 'modis_2001_South_Sudan.csv', 'modis_2001_Spain.csv', 'modis_2001_Sri_Lanka.csv', 'modis_2001_Sudan.csv', 'modis_2001_Suriname.csv', 'modis_2001_Swaziland.csv', 'modis_2001_Sweden.csv', 'modis_2001_Switzerland.csv', 'modis_2001_Syria.csv', 'modis_2001_Taiwan.csv', 'modis_2001_Tajikistan.csv', 'modis_2001_Tanzania.csv', 'modis_2001_Thailand.csv', 'modis_2001_The_Gambia.csv', 'modis_2001_Timor-Leste.csv', 'modis_2001_Togo.csv', 'modis_2001_Tonga.csv', 'modis_2001_Trinidad_and_Tobago.csv', 'modis_2001_Tunisia.csv', 'modis_2001_Turkey.csv', 'modis_2001_Turkmenistan.csv', 'modis_2001_Uganda.csv', 'modis_2001_Ukraine.csv', 'modis_2001_United_Arab_Emirates.csv', 'modis_2001_United_Kingdom.csv', 'modis_2001_United_States.csv', 'modis_2001_United_States_Minor_Outlying_Islands.csv', 'modis_2001_United_States_Virgin_Islands.csv', 'modis_2001_Uruguay.csv', 'modis_2001_Uzbekistan.csv', 'modis_2001_Vanuatu.csv', 'modis_2001_Venezuela.csv', 'modis_2001_Vietnam.csv', 'modis_2001_Yemen.csv', 'modis_2001_Zambia.csv', 'modis_2001_Zimbabwe.csv']\n"
     ]
    }
   ],
   "source": [
    "print(os.listdir())"
   ]
  },
  {
   "cell_type": "code",
   "execution_count": 14,
   "metadata": {},
   "outputs": [],
   "source": [
    "os.makedirs(\"OS-Demo-4/Sub_Dir_5\")"
   ]
  },
  {
   "cell_type": "code",
   "execution_count": 13,
   "metadata": {},
   "outputs": [],
   "source": [
    "os.removedirs(\"OS-Demo-4/Sub_Dir_5\")"
   ]
  },
  {
   "cell_type": "code",
   "execution_count": 8,
   "metadata": {},
   "outputs": [],
   "source": [
    "os.remove(\"modis_2001_Afghanistan.csv\")"
   ]
  },
  {
   "cell_type": "code",
   "execution_count": 17,
   "metadata": {},
   "outputs": [],
   "source": [
    "os.rename(\"OS-Demo-4\", \"OS-Demo-5\")"
   ]
  },
  {
   "cell_type": "code",
   "execution_count": 21,
   "metadata": {},
   "outputs": [
    {
     "name": "stdout",
     "output_type": "stream",
     "text": [
      "['2001', '2002', '2003', '2004', '2005', '2006', '2007', '2008', '2009', '2010', '2011', '2012', '2013', '2014', '2015', '2016', '2017', '2018', '2019', 'OS-Demo-5', 'TheListOfCountriesInROI.xlsx', 'TheListOfCountriesROI.txt', '~$TheListOfCountriesInROI.xlsx']\n"
     ]
    }
   ],
   "source": [
    "print(os.listdir())"
   ]
  },
  {
   "cell_type": "code",
   "execution_count": 29,
   "metadata": {},
   "outputs": [],
   "source": [
    "mtime= os.stat('TheListOfCountriesROI.txt').st_mtime"
   ]
  },
  {
   "cell_type": "code",
   "execution_count": 30,
   "metadata": {},
   "outputs": [
    {
     "name": "stdout",
     "output_type": "stream",
     "text": [
      "2020-12-04 21:52:47.869923\n"
     ]
    }
   ],
   "source": [
    "print(datetime.fromtimestamp(mtime))"
   ]
  },
  {
   "cell_type": "code",
   "execution_count": 31,
   "metadata": {},
   "outputs": [
    {
     "name": "stdout",
     "output_type": "stream",
     "text": [
      "None\n"
     ]
    }
   ],
   "source": [
    "print(os.environ.get(\"HOME\"))"
   ]
  },
  {
   "cell_type": "code",
   "execution_count": null,
   "metadata": {},
   "outputs": [],
   "source": []
  }
 ],
 "metadata": {
  "kernelspec": {
   "display_name": "Python 3",
   "language": "python",
   "name": "python3"
  },
  "language_info": {
   "codemirror_mode": {
    "name": "ipython",
    "version": 3
   },
   "file_extension": ".py",
   "mimetype": "text/x-python",
   "name": "python",
   "nbconvert_exporter": "python",
   "pygments_lexer": "ipython3",
   "version": "3.6.6"
  }
 },
 "nbformat": 4,
 "nbformat_minor": 2
}
